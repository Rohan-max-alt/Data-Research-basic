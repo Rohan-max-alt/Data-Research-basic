{
 "cells": [
  {
   "cell_type": "markdown",
   "id": "4a9ef71d",
   "metadata": {},
   "source": [
    "# My Jupyter Notebook on IBM Watson Studio"
   ]
  },
  {
   "cell_type": "markdown",
   "id": "7d124236",
   "metadata": {},
   "source": [
    "**Rohan Rajendra**\n",
    "Engineering Student "
   ]
  },
  {
   "cell_type": "markdown",
   "id": "5c723deb",
   "metadata": {},
   "source": [
    "### Following code will print the output hello world"
   ]
  },
  {
   "cell_type": "code",
   "execution_count": 8,
   "id": "37d7be70",
   "metadata": {},
   "outputs": [
    {
     "name": "stdout",
     "output_type": "stream",
     "text": [
      "Hello, World!\n"
     ]
    }
   ],
   "source": [
    "print(\"Hello, World!\")"
   ]
  },
  {
   "cell_type": "markdown",
   "id": "2d25ffaa",
   "metadata": {},
   "source": [
    "| Tables        | Are           | Cool      |\n",
    "|:------------- |:-------------:| ---------:|\n",
    "| col 3 is      | veg           | 900       |\n",
    "| col 2 is      | non veg       |   542     |\n",
    "| zebra stripes | mix           |    123.25 |"
   ]
  },
  {
   "cell_type": "markdown",
   "id": "15181809",
   "metadata": {},
   "source": [
    "* **This is a bullet item with bold words*"
   ]
  },
  {
   "cell_type": "markdown",
   "id": "b565ac6d",
   "metadata": {},
   "source": [
    "Three or more...\n",
    "\n",
    "---\n",
    "\n",
    "Hyphens\n",
    "\n",
    "***\n",
    "\n",
    "Asterisks\n",
    "\n",
    "___\n",
    "\n",
    "Underscores"
   ]
  },
  {
   "cell_type": "markdown",
   "id": "9d7986ae",
   "metadata": {},
   "source": [
    "Three or more...\n",
    "\n",
    "---\n",
    "\n",
    "Hyphens\n",
    "\n",
    "***\n",
    "\n",
    "Asterisks\n",
    "\n",
    "___\n",
    "\n",
    "Underscores"
   ]
  },
  {
   "cell_type": "markdown",
   "id": "f694831a",
   "metadata": {},
   "source": [
    "* **This is a bullet item with bold words**"
   ]
  },
  {
   "cell_type": "code",
   "execution_count": null,
   "id": "64c3c604",
   "metadata": {},
   "outputs": [],
   "source": []
  }
 ],
 "metadata": {
  "kernelspec": {
   "display_name": "Python 3",
   "language": "python",
   "name": "python3"
  },
  "language_info": {
   "codemirror_mode": {
    "name": "ipython",
    "version": 3
   },
   "file_extension": ".py",
   "mimetype": "text/x-python",
   "name": "python",
   "nbconvert_exporter": "python",
   "pygments_lexer": "ipython3",
   "version": "3.8.8"
  }
 },
 "nbformat": 4,
 "nbformat_minor": 5
}
