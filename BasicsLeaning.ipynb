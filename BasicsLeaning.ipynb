{
 "cells": [
  {
   "cell_type": "code",
   "execution_count": null,
   "id": "b2ad5b9b",
   "metadata": {},
   "outputs": [],
   "source": [
    "'''Pyhon is an interpreted high-level general purpose programming language\n",
    "created by Gudi Van Rossum , first appeared on feburary 1991"
   ]
  },
  {
   "cell_type": "code",
   "execution_count": 1,
   "id": "cda75203",
   "metadata": {
    "scrolled": true
   },
   "outputs": [
    {
     "name": "stdout",
     "output_type": "stream",
     "text": [
      "Hello world\n"
     ]
    }
   ],
   "source": [
    "print(\"Hello world\")"
   ]
  },
  {
   "cell_type": "code",
   "execution_count": 2,
   "id": "b2060a4c",
   "metadata": {},
   "outputs": [
    {
     "name": "stdout",
     "output_type": "stream",
     "text": [
      "5 is greater than 2\n"
     ]
    }
   ],
   "source": [
    "if 5>2:\n",
    "    print(\"5 is greater than 2\")\n",
    "else:\n",
    "    print(\"2 is greater than 5\")\n",
    "        "
   ]
  },
  {
   "cell_type": "code",
   "execution_count": 3,
   "id": "23704fc5",
   "metadata": {},
   "outputs": [
    {
     "name": "stdout",
     "output_type": "stream",
     "text": [
      "5 10 hell i am Rohan\n"
     ]
    }
   ],
   "source": [
    "x=5\n",
    "y=10\n",
    "z=\"hell i am Rohan\"\n",
    "print(x,y,z)"
   ]
  },
  {
   "cell_type": "code",
   "execution_count": 4,
   "id": "5a82017c",
   "metadata": {},
   "outputs": [
    {
     "data": {
      "text/plain": [
       "' - This is a \\n     multi line comment,\\n     we can write multiple lines without interrupting\\n     the program in the platofrm\\n'"
      ]
     },
     "execution_count": 4,
     "metadata": {},
     "output_type": "execute_result"
    }
   ],
   "source": [
    "# - this is a single line comment and we can write only one line in this without interrupting the program\n",
    "\"\"\" - This is a \n",
    "     multi line comment,\n",
    "     we can write multiple lines without interrupting\n",
    "     the program in the platofrm\n",
    "\"\"\""
   ]
  },
  {
   "cell_type": "code",
   "execution_count": 5,
   "id": "57cdfe87",
   "metadata": {},
   "outputs": [
    {
     "name": "stdout",
     "output_type": "stream",
     "text": [
      "3 3 3.0\n"
     ]
    }
   ],
   "source": [
    "# Casting\n",
    "x=str(3)\n",
    "y=int(3)\n",
    "z=float(3)\n",
    "print(x,y,z)"
   ]
  },
  {
   "cell_type": "code",
   "execution_count": 6,
   "id": "70060c63",
   "metadata": {},
   "outputs": [
    {
     "name": "stdout",
     "output_type": "stream",
     "text": [
      "<class 'str'>\n",
      "<class 'int'>\n",
      "<class 'float'>\n",
      "This is called Casting\n"
     ]
    }
   ],
   "source": [
    "#getting the data type of a variable\n",
    "print(type(x))\n",
    "print(type(y))\n",
    "print(type(z))\n",
    "print(\"This is called Casting\")"
   ]
  },
  {
   "cell_type": "code",
   "execution_count": 7,
   "id": "24364f21",
   "metadata": {},
   "outputs": [
    {
     "name": "stdout",
     "output_type": "stream",
     "text": [
      "Rohan Rohan\n"
     ]
    }
   ],
   "source": [
    "#single and double quotes string variable\n",
    "x=\"Rohan\"\n",
    "y='Rohan'\n",
    "print(x,y)"
   ]
  },
  {
   "cell_type": "code",
   "execution_count": null,
   "id": "d9d01027",
   "metadata": {},
   "outputs": [],
   "source": [
    "\"\"\"\n",
    "Camel case\n",
    "Each word except the fist starts with the capital letter : myVariableNameIs\n",
    "Pascal case\n",
    "Each word starts with a capital letter : MyVariableNameIs\n",
    "Snake Case\n",
    "Each word is seprated by an underscore : my_variable_name_is\n",
    "\n",
    "\"\"\""
   ]
  },
  {
   "cell_type": "code",
   "execution_count": null,
   "id": "e7884c86",
   "metadata": {},
   "outputs": [],
   "source": [
    "#many values to many vriables in one line\n",
    "x,y,z=10,100,1000\n",
    "print(x,y,z)\n",
    "#one value to multiple variable\n",
    "x=y=z=1000\n",
    "print(x,y,z)"
   ]
  },
  {
   "cell_type": "code",
   "execution_count": null,
   "id": "a0727798",
   "metadata": {},
   "outputs": [],
   "source": [
    "# Unpacking of the values of the liste or tuples or sets\n",
    "fruits=['apple','banana','cherry']\n",
    "x,y,z=fruits\n",
    "print(x,y,z)"
   ]
  },
  {
   "cell_type": "code",
   "execution_count": null,
   "id": "fcf66ea0",
   "metadata": {},
   "outputs": [],
   "source": [
    "#unpacking example\n",
    "mylist=['me','myself','i','mine','to me']\n",
    "a,b,c,d,e=mylist\n",
    "print(a,b,\"and\",c)"
   ]
  },
  {
   "cell_type": "code",
   "execution_count": null,
   "id": "8d818674",
   "metadata": {},
   "outputs": [],
   "source": [
    "#Python output variable\n",
    "x=\"awsome\"\n",
    "y=\"I am \"\n",
    "print(y+x)\n",
    "# we can use the + sign to concate two strings"
   ]
  },
  {
   "cell_type": "code",
   "execution_count": null,
   "id": "8e0f90cd",
   "metadata": {},
   "outputs": [],
   "source": [
    "#Python global variable - variables that are created outside of a function\n",
    "x= \"fun\"\n",
    "def myFunction():\n",
    "    print('python is '+x)\n",
    "\n",
    "myFunction()"
   ]
  },
  {
   "cell_type": "code",
   "execution_count": null,
   "id": "ee153bc3",
   "metadata": {},
   "outputs": [],
   "source": [
    "x='fun'\n",
    "def myFun():\n",
    "    x='cool'\n",
    "    print('Python is '+x)\n",
    "myFun()\n",
    "\n",
    "print('Python is '+x)"
   ]
  },
  {
   "cell_type": "code",
   "execution_count": null,
   "id": "54998a66",
   "metadata": {},
   "outputs": [],
   "source": [
    "x=100\n",
    "y=200\n",
    "z=300\n",
    "def myFun():\n",
    "    z=400\n",
    "    print(x+y+z)\n",
    "myFun()\n",
    "print(x+y+z)\n",
    "print(\"100 is more in function or the first one because local varibale z is 400 inside the function\")"
   ]
  },
  {
   "cell_type": "code",
   "execution_count": null,
   "id": "7e6489bd",
   "metadata": {},
   "outputs": [],
   "source": [
    "# Creating global variable inside a function \n",
    "x=100\n",
    "y=100\n",
    "def gfun():\n",
    "    global z\n",
    "    z=100\n",
    "    print(z+y+x)\n",
    "gfun()\n",
    "print(x+y+z)\n",
    "# notice that global variable z is not directly assigned to 100 , but first initialized as global and then assigned"
   ]
  },
  {
   "cell_type": "code",
   "execution_count": null,
   "id": "b50a7fb1",
   "metadata": {},
   "outputs": [],
   "source": [
    "x=\"my name is \"\n",
    "def name():\n",
    "    global y\n",
    "    y='Rohan'\n",
    "    print(x+y)\n",
    "name()\n",
    "print(\"\\n\"+x+y)\n"
   ]
  },
  {
   "cell_type": "code",
   "execution_count": null,
   "id": "6e24655d",
   "metadata": {},
   "outputs": [],
   "source": [
    "\"\"\"\n",
    "Python Data Types\n",
    "\n",
    "Text Type: str\n",
    "Numberic Types: int, float, complex\n",
    "Sequence Types: list, Tuple, range\n",
    "Mapping Type: dict\n",
    "set type: set,frozenset\n",
    "BooleanType: bool\n",
    "Binary Type: bytes, bytearray,memoryview\n",
    "\"\"\"\n"
   ]
  },
  {
   "cell_type": "code",
   "execution_count": null,
   "id": "52dec6fd",
   "metadata": {},
   "outputs": [],
   "source": [
    "#Type convertion, convertion of one type of data to another type\n",
    "x=1\n",
    "y=1.1\n",
    "z=1j\n",
    "print(type(x))\n",
    "print(type(y))\n",
    "print(type(z))\n",
    "a=float(x)\n",
    "b=int(y)\n",
    "print('int changes to float and float to int')\n",
    "print(type(a))\n",
    "print(type(b))\n",
    "print(type(z))"
   ]
  },
  {
   "cell_type": "code",
   "execution_count": null,
   "id": "e8483e56",
   "metadata": {},
   "outputs": [],
   "source": [
    "# Random numbes function\n",
    "import random\n",
    "print(random.randrange(1,9))"
   ]
  },
  {
   "cell_type": "code",
   "execution_count": null,
   "id": "9c1ef38b",
   "metadata": {},
   "outputs": [],
   "source": [
    "print('Random with Function')\n",
    "def rand():\n",
    "    print(random.randrange(1,100))\n",
    "rand()"
   ]
  },
  {
   "cell_type": "code",
   "execution_count": null,
   "id": "994ba6bb",
   "metadata": {},
   "outputs": [],
   "source": [
    "#Python Casting , specifying a variable type to a variable.\n",
    "x=int(1)\n",
    "y=int(2.9)\n",
    "z=int(\"3\")\n",
    "print(x,y,z)\n",
    "print('all the other data type is converted into int type')"
   ]
  },
  {
   "cell_type": "code",
   "execution_count": null,
   "id": "c05032ab",
   "metadata": {},
   "outputs": [],
   "source": [
    "# in python Strings are arrays , they dont a character data type but have str or array type and takes character as array with 1 length\n",
    "a=\"Hello world \"\n",
    "b=\"c\"\n",
    "print(a,b)\n",
    "print(a[0])\n",
    "print(a[1])"
   ]
  },
  {
   "cell_type": "code",
   "execution_count": null,
   "id": "3b131a55",
   "metadata": {},
   "outputs": [],
   "source": [
    "#looping through a string\n",
    "for x in 'banana':\n",
    " print(x)"
   ]
  },
  {
   "cell_type": "code",
   "execution_count": null,
   "id": "34c1c196",
   "metadata": {},
   "outputs": [],
   "source": [
    "# String Length\n",
    "a=\"Hello i am Rohan and this is to find Length\"\n",
    "print(len(a))\n",
    "b=\"123456 78910\"\n",
    "print(len(b))"
   ]
  },
  {
   "cell_type": "code",
   "execution_count": null,
   "id": "7d818a91",
   "metadata": {},
   "outputs": [],
   "source": [
    "#Check String\n",
    "a=\"i feel perfect and active todat from morning 6\"\n",
    "if('feel' in a):\n",
    "    print('yes')\n",
    "else:\n",
    "    print('no')"
   ]
  },
  {
   "cell_type": "code",
   "execution_count": null,
   "id": "04401fcb",
   "metadata": {},
   "outputs": [],
   "source": [
    "a=\"this is awsome im learning\"\n",
    "print('awsome'in a) \n",
    "print('awsome'not in a)\n",
    "print('rohan'not in a)"
   ]
  },
  {
   "cell_type": "code",
   "execution_count": null,
   "id": "88995de7",
   "metadata": {},
   "outputs": [],
   "source": [
    "#Slicing String in Python (i mean its same like array right!)\n",
    "txt=\"Hello,World\"\n",
    "print(txt[2:6])\n",
    "print('starts from the position 0 1 \\'2\\'and ends with 5th position or n-1th position')"
   ]
  },
  {
   "cell_type": "code",
   "execution_count": null,
   "id": "9b9161dd",
   "metadata": {},
   "outputs": [],
   "source": [
    "#Slicing from the start\n",
    "txt=\"hello,world\"\n",
    "print(txt[:6])"
   ]
  },
  {
   "cell_type": "code",
   "execution_count": null,
   "id": "582ecbcb",
   "metadata": {},
   "outputs": [],
   "source": [
    "#Slicing from the End\n",
    "txt=\"Hello,World\"\n",
    "print(txt[2:])"
   ]
  },
  {
   "cell_type": "code",
   "execution_count": null,
   "id": "95e0e5be",
   "metadata": {},
   "outputs": [],
   "source": [
    "#Negative indexing , fromm back words and it starts from -1\n",
    "txt=\"Hello,World\"\n",
    "print(txt[-5:-2])"
   ]
  },
  {
   "cell_type": "code",
   "execution_count": null,
   "id": "d3b0ef0c",
   "metadata": {},
   "outputs": [],
   "source": [
    "#Negative indexing , fromm back words and it starts from -1\n",
    "txt=\"Hello,World\"\n",
    "print(txt[-1])"
   ]
  },
  {
   "cell_type": "code",
   "execution_count": null,
   "id": "beb90ee3",
   "metadata": {},
   "outputs": [],
   "source": [
    "\"\"\"\n",
    "The index vslues\n",
    "Index   _R o h a n   R o h a n\n",
    "        _0 1 2 3 4 5 6 7 8 9 10\n",
    "Length  _1 2 3 4 5 6 7 8 9 10 11\n",
    "neg_Ind -11 -10 -9 -8 -7 -6 -5 -4 -3 -2 -1\n",
    "Space is also consired as a blank or null value as 1 index\n",
    "\"\"\""
   ]
  },
  {
   "cell_type": "code",
   "execution_count": null,
   "id": "ae2db0d1",
   "metadata": {},
   "outputs": [],
   "source": [
    "#String Modification\n",
    "#Upper case of the string\n",
    "a=\"Hello,World\"\n",
    "print(a.upper())"
   ]
  },
  {
   "cell_type": "code",
   "execution_count": null,
   "id": "c52069af",
   "metadata": {},
   "outputs": [],
   "source": [
    "#String Modificstion\n",
    "#Upper case of the string\n",
    "a=\"Hello,World\"\n",
    "print(a.lower())"
   ]
  },
  {
   "cell_type": "code",
   "execution_count": null,
   "id": "5b151d0d",
   "metadata": {},
   "outputs": [],
   "source": [
    "#String Modificstion\n",
    "#Upper case of the string\n",
    "a=\"  Hello, World\"\n",
    "print(a.strip())\n",
    "b=\"  Hello, World\"\n",
    "print(b)\n",
    "#The strip function removes the blank space or the space which is at the beginning of the sentance"
   ]
  },
  {
   "cell_type": "code",
   "execution_count": null,
   "id": "7fdd29cc",
   "metadata": {},
   "outputs": [],
   "source": [
    "#Replacing the String\n",
    "a=\"Hello, world\"\n",
    "print(a.replace('H','L'))\n",
    "print(a.replace('Hello,','Beautiful'))"
   ]
  },
  {
   "cell_type": "code",
   "execution_count": null,
   "id": "ca3e76df",
   "metadata": {},
   "outputs": [],
   "source": [
    "#Splitting the string, this method returns a list , where the text becomes the list items within square brackets\n",
    "a=\"Hello, World\"\n",
    "b=\" i am Rohan\"\n",
    "print(a.split())\n",
    "print(b.split())"
   ]
  },
  {
   "cell_type": "code",
   "execution_count": null,
   "id": "548a0c12",
   "metadata": {},
   "outputs": [],
   "source": [
    "#using the format mehod to combine both text and numbers\n",
    "a=\"Hello i am Rohan or age {1}\"\n",
    "print(a.format(30,21))\n",
    "print(a.format(10,21,40))\n",
    "a=\"Hello i am Rohan or age {}\"\n",
    "print(a.format(21))\n",
    "back=0\n",
    "age=21\n",
    "sem=6\n",
    "a=\"Hello i am Rohan or age {} and i am {} semister with {} backs , im lucky!\"\n",
    "print(a.format(age,sem,back))"
   ]
  },
  {
   "cell_type": "code",
   "execution_count": null,
   "id": "3100c057",
   "metadata": {},
   "outputs": [],
   "source": [
    "#Python escape characters - an escape character is a / - backslash followed by the character you want to insert.\n",
    "a='Hello this is for \\'testing\\' the backslash, \\b if its working or not \\n lala\\t haha \\nnot and\\rlike not'\n",
    "print(a)"
   ]
  },
  {
   "cell_type": "markdown",
   "id": "3238ed80",
   "metadata": {},
   "source": [
    "### Python Practicals from class"
   ]
  },
  {
   "cell_type": "code",
   "execution_count": null,
   "id": "4c7abf0e",
   "metadata": {},
   "outputs": [],
   "source": [
    "# to get binary value\n",
    "a=60\n",
    "print(format(a,'b'))\n",
    "print(format(a,'d'))\n",
    "print(format(a,'x'))\n",
    "print(format(a,'o'))\n",
    "# it gives you the last or the final value in that format \n",
    "format(60,'o')"
   ]
  },
  {
   "cell_type": "code",
   "execution_count": null,
   "id": "d42bbf86",
   "metadata": {},
   "outputs": [],
   "source": [
    "help(format)\n",
    "help('FORMATTING')"
   ]
  },
  {
   "cell_type": "code",
   "execution_count": null,
   "id": "4d3427be",
   "metadata": {},
   "outputs": [],
   "source": [
    "# membership operation in boolean is 'in' and 'not in'\n",
    "a=\"rohan is in sync\"\n",
    "if 'rohan' in a:\n",
    " print(\"yes\") \n",
    "a='i' in 'inner world'\n",
    "print(a)\n",
    "#because it give the value of the last or the last displayed output\n",
    "'i' not in 'inner world'"
   ]
  },
  {
   "cell_type": "code",
   "execution_count": null,
   "id": "1a39b24c",
   "metadata": {},
   "outputs": [],
   "source": [
    "#Conditional Statements\n",
    "#one condition(if)\n",
    "a=100\n",
    "b=200\n",
    "if a>b:\n",
    "    print(\"a is greater than b\")\n",
    "else:# two condition\n",
    "    print(\"b is greate than a\")\n",
    "        "
   ]
  },
  {
   "cell_type": "code",
   "execution_count": null,
   "id": "63c09753",
   "metadata": {},
   "outputs": [],
   "source": [
    "#Multi conditon statement\n",
    "a=100\n",
    "b=1000\n",
    "c=200\n",
    "if a>b and a>c:\n",
    "    print('a is greater')\n",
    "elif b>a and b>c:\n",
    "    print('b is greater')\n",
    "else:\n",
    "    print('c is greater')"
   ]
  },
  {
   "cell_type": "code",
   "execution_count": null,
   "id": "8b690748",
   "metadata": {},
   "outputs": [],
   "source": [
    "# Nested if statement\n",
    "x=int(input(\"Enter the value of x :\"))\n",
    "if x>10:\n",
    "    print(\"x is greater than 10\")\n",
    "    if x>20:\n",
    "        print('x is greater than 20')\n",
    "    else:\n",
    "        print('x is lesser than 20')\n",
    "else:\n",
    "\n",
    "    print('x is less than 10')"
   ]
  },
  {
   "cell_type": "code",
   "execution_count": null,
   "id": "4aca818d",
   "metadata": {},
   "outputs": [],
   "source": [
    "# loops \n",
    "fruits=['mango','apple','banana']\n",
    "print('mango')\n",
    "for a in fruits:\n",
    "    print(a)"
   ]
  },
  {
   "cell_type": "code",
   "execution_count": null,
   "id": "26e4e9c6",
   "metadata": {},
   "outputs": [],
   "source": [
    "#finding square of value in a for loop\n",
    "list=[1,2,3,4,5,7,10]\n",
    "for n in list:\n",
    "    print(n*n*n)"
   ]
  },
  {
   "cell_type": "code",
   "execution_count": null,
   "id": "1983e000",
   "metadata": {},
   "outputs": [],
   "source": [
    "#Nested for loop\n",
    "a=['suhasini','sanju','moumi','shreya','meenu','pooja']\n",
    "b=['rohan','ron','billa']\n",
    "for x in a:\n",
    "    for y in b:\n",
    "        print(x,y)"
   ]
  },
  {
   "cell_type": "code",
   "execution_count": null,
   "id": "a5d9eac8",
   "metadata": {},
   "outputs": [],
   "source": []
  },
  {
   "cell_type": "code",
   "execution_count": null,
   "id": "abe547be",
   "metadata": {},
   "outputs": [],
   "source": [
    "#Nested for loop\n",
    "a=[1,2,3,4,5]\n",
    "b=[6,7,8,9,10]\n",
    "for x in a:\n",
    "    for y in b:\n",
    "        print(x,\",\",y)"
   ]
  },
  {
   "cell_type": "code",
   "execution_count": null,
   "id": "05b081ce",
   "metadata": {},
   "outputs": [],
   "source": [
    "# While loop -- a while loop will run the code repeatedly only when the given condition is true:\n",
    "count=20\n",
    "while count<=20:\n",
    "    print(\"Digit:\",count)\n",
    "    count=count+1\n",
    "print(\"Thank you\")\n",
    "\n",
    "    "
   ]
  },
  {
   "cell_type": "code",
   "execution_count": null,
   "id": "78768213",
   "metadata": {},
   "outputs": [],
   "source": [
    "import random\n",
    "n=20\n",
    "random_number=int(20*random.random())\n",
    "while guess!=random_number:\n",
    "    guess=int(input(\"Put new number\"))\n",
    "    if guess>0:\n",
    "        if guess>random_number:\n",
    "            print(\"number is large\")\n",
    "        elif guess<random_number:\n",
    "            print(\"number is small\")\n",
    "    else:\n",
    "        print(\"sorry you are giving up!\")\n",
    "        break\n",
    "else: # if the guess is equal then it gives a else output as songrags else it enters into the loop to tell weather its big or small\n",
    "    print(\"Congrags you have won the game\")"
   ]
  },
  {
   "cell_type": "code",
   "execution_count": null,
   "id": "fe22b67e",
   "metadata": {},
   "outputs": [],
   "source": [
    "import random\n",
    "print(\"The random number guessing game\")\n",
    "c=int(input(\"Enter the limit of guesing: \"))\n",
    "b=random.randrange(0,c)\n",
    "while c<=10:\n",
    "    a=int(input(\"Enter a number to match random: \"))\n",
    "    if a>0:\n",
    "      if b==a:\n",
    "        print(\"This is mateched !!! :)  you won!\")\n",
    "      elif a>b:\n",
    "        print(\"input is greater\")\n",
    "      elif b>a:\n",
    "        print(\"imput is smaller\")\n",
    "    else:\n",
    "      print(\" enter a valid number\")\n",
    "      break\n",
    "else:\n",
    "      print(\"the number should be lesser than\",c)"
   ]
  },
  {
   "cell_type": "code",
   "execution_count": null,
   "id": "796bc6b9",
   "metadata": {},
   "outputs": [],
   "source": [
    "#user defined function or named function\n",
    "def add(x,y):\n",
    " z=x+y\n",
    " return z\n",
    "add(10,20)"
   ]
  },
  {
   "cell_type": "code",
   "execution_count": null,
   "id": "20cb12d7",
   "metadata": {},
   "outputs": [],
   "source": [
    "def avg_number(x,y):\n",
    "    print(\"the average is \",(x+y)/2)\n",
    "avg_number(5,10)"
   ]
  },
  {
   "cell_type": "code",
   "execution_count": null,
   "id": "72363011",
   "metadata": {},
   "outputs": [],
   "source": [
    "help('lambda')"
   ]
  },
  {
   "cell_type": "code",
   "execution_count": null,
   "id": "adc2925b",
   "metadata": {},
   "outputs": [],
   "source": [
    "def cube(y):\n",
    "    return y*y*y\n",
    "\n",
    "g=lambda x:x*x*x\n",
    "\n",
    "print(g(6))\n",
    "cube(6)"
   ]
  },
  {
   "cell_type": "code",
   "execution_count": null,
   "id": "2b200fe6",
   "metadata": {},
   "outputs": [],
   "source": [
    "g=lambda x:x*x*x\n",
    "print(g(10))"
   ]
  },
  {
   "cell_type": "code",
   "execution_count": null,
   "id": "4a2283d2",
   "metadata": {},
   "outputs": [],
   "source": [
    "#the filter function helps to filter out the condition statement when it satisfies\n",
    "list1=[1,2,3,4,5,6,7,8,9,10,11,12,13,14,15,16,17,18]\n",
    "final_list1= list(filter(lambda x:(x%2!=0),list1))\n",
    "print(final_list1)"
   ]
  },
  {
   "cell_type": "markdown",
   "id": "c62c47c2",
   "metadata": {},
   "source": [
    "# Python String methods\n"
   ]
  },
  {
   "cell_type": "code",
   "execution_count": null,
   "id": "243d2ded",
   "metadata": {},
   "outputs": [],
   "source": [
    "#capitalize()- converts the first character to Upper case and others to lower case as we see below.\n",
    "txt=\"Rohan Rajendra Rohan Rajendra\"\n",
    "x=txt.capitalize()\n",
    "y=txt.upper()\n",
    "print(x)\n",
    "print(y)"
   ]
  },
  {
   "cell_type": "code",
   "execution_count": null,
   "id": "03a38028",
   "metadata": {},
   "outputs": [],
   "source": [
    "#Casefold() converts string into lower case\n",
    "x=txt.casefold()\n",
    "y=txt.lower()\n",
    "print(x)\n",
    "print(y)\n"
   ]
  },
  {
   "cell_type": "code",
   "execution_count": null,
   "id": "64ba61fe",
   "metadata": {},
   "outputs": [],
   "source": [
    "#Center Returns to center String with a user defined space\n",
    "tx=\"hello\"\n",
    "txt=\"hello world\"\n",
    "x=tx.center(20,'*')\n",
    "print(txt)\n",
    "print(x)\n",
    "txt='Rohan'\n",
    "x=txt.center(20)\n",
    "print(x)\n",
    "x=txt.center(30,'*')\n",
    "print(x)\n",
    "#This will work only for one word like Rohan because its only one word without space\n",
    "        \n"
   ]
  },
  {
   "cell_type": "code",
   "execution_count": null,
   "id": "10023d6e",
   "metadata": {},
   "outputs": [],
   "source": [
    "#Count()- Returnes the number of times a specifiede value appears in string\n",
    "x=txt.count('o')\n",
    "print(x)\n",
    "a='i am Rohan and i repeat that me Rohan wil keep up the Rohan wold Rules and regulations'\n",
    "print(a.count('Rohan'))\n",
    "print(a.count('R'))\n",
    "\n"
   ]
  },
  {
   "cell_type": "code",
   "execution_count": null,
   "id": "4f8200b6",
   "metadata": {},
   "outputs": [],
   "source": [
    "#encode() - this method encodes the string using the specific encode , if no encode is specified UTF-* will be used\n",
    "x=a.encode()\n",
    "print(x)"
   ]
  },
  {
   "cell_type": "code",
   "execution_count": null,
   "id": "dab3e924",
   "metadata": {},
   "outputs": [],
   "source": [
    "# endswith()- reurens true if the condition is satisfied or else its false\n",
    "x=a.endswith('s')\n",
    "print(x)\n",
    "print(a)\n",
    "b=\"hell its a whole word i guess\"\n",
    "y=b.endswith('guess')\n",
    "print(y)\n",
    "print(\"it turen out to be both word and a letter at the end!\")\n"
   ]
  },
  {
   "cell_type": "code",
   "execution_count": null,
   "id": "ddf0c2b4",
   "metadata": {},
   "outputs": [],
   "source": [
    "# expandtabs()- method sets the tab size to the specified number of white space. e.g.,\n",
    "txt=\"h\\te\\tl\\tl\\to\"\n",
    "x=txt.expandtabs(0)\n",
    "print(x)\n",
    "x=txt.expandtabs(1)\n",
    "print(x)\n",
    "x=txt.expandtabs(2)\n",
    "print(x)\n",
    "x=txt.expandtabs(3)\n",
    "print(x)\n",
    "x=txt.expandtabs(4)\n",
    "print(x)\n",
    "x=txt.expandtabs(5)\n",
    "print(x)\n",
    "x=txt.expandtabs(6)\n",
    "print(x)"
   ]
  },
  {
   "cell_type": "code",
   "execution_count": null,
   "id": "1a7d6bdc",
   "metadata": {},
   "outputs": [],
   "source": [
    "# find() this function is used to fins the word or letter in the sentance and display it to the monitor as numbers \n",
    "# it returns -1 if the value is not found\n",
    "print(a)\n",
    "x=a.find('Rohan')\n",
    "print(x)\n",
    "z=a.find(\"rohan\")\n",
    "print(a[x:])"
   ]
  },
  {
   "cell_type": "code",
   "execution_count": null,
   "id": "fcb58253",
   "metadata": {},
   "outputs": [],
   "source": [
    "#Format : this format method formats the specified values and inserts them inside the string placeholder.\n",
    "txt='For only {price:.2f} dollars!'\n",
    "print(txt.format(price=99))\n",
    "print('at first we use : to define and then we use = to equalize the ')\n"
   ]
  },
  {
   "cell_type": "code",
   "execution_count": null,
   "id": "f7f88d0d",
   "metadata": {},
   "outputs": [],
   "source": [
    "\"\"\"\n",
    "\n",
    "we use formatting methods like {:,}, {:_}, {:b}, etc..\n",
    ":< left-align value\n",
    ":> right-align value\n",
    ":^ center align value\n",
    ":= to place plus and minus sign at the most position\n",
    ":+ to indicate of the number is positive\n",
    ":- to use - sign for negative values\n",
    ": to use space before positive num\n",
    ":, use ',' to seprate like comma and thousand seprators, we can also use '_'\n",
    ":b binary format or ,'b'\n",
    ":c to convert the character into corresponding unicode character\n",
    ":d Decimal format\n",
    ":e scientific number format\n",
    ":E scientific number format uppercase\n",
    ":F fixed position number format\n",
    ":g general format\n",
    ":G general format using a copper case E for scientific notation\n",
    ":o octal format\n",
    ":X HEX FORMAT\n",
    ":n number format\n",
    ":% for percentage\n"
   ]
  },
  {
   "cell_type": "code",
   "execution_count": null,
   "id": "feb41095",
   "metadata": {},
   "outputs": [],
   "source": [
    "'''\n",
    "Python String part-2\n",
    "The index method finds the first occurence of the specified value.\n",
    "The index() method is almost same as the find method, the only difference is that find method reurns -1 if string not found\n",
    "syntax:\n",
    "'''\n",
    "txt=\"Hello, Welcome to my world\"\n",
    "x=txt.index(\"Welcome\")# This is the proper output file\n",
    "print(x)\n",
    "y=txt.index(\"text\") # this is the error file\n",
    "print(y)"
   ]
  },
  {
   "cell_type": "code",
   "execution_count": null,
   "id": "abd03370",
   "metadata": {},
   "outputs": [],
   "source": [
    "# Syntax 2 :  \n",
    "'''\n",
    "string.index(value,start,end)\n",
    "\n",
    "Some of the other operations on the string are\n",
    "isalnum() -checks if alphanumeric\n",
    "isalpha() - checks if alphabet or not\n",
    "isdecimal()- checks if its decimal or not\n",
    "isdigit()- Checks if the value is digit or not\n",
    "isidentifier()- checks of the identifier is valid or not(alphanumeric and undescore '_')\n",
    "islower()- to check if its in lowercase or not\n",
    "isupper()-upper or not\n",
    "isnumeric()-if numeric true\n",
    "isprintable()-if strings are printable\n",
    "isspace()-returns true if all the characters are white space.\n",
    "istitle()-reurns true if all words in the in the text Starts with the upper case letter(e.g., This Is Good )\n",
    "\n",
    "'''"
   ]
  },
  {
   "cell_type": "code",
   "execution_count": null,
   "id": "9e0aa0a0",
   "metadata": {},
   "outputs": [],
   "source": [
    "#JOIN METHOD\n",
    "mytuple=(\"john\",\"peter\",\"Vicky\")\n",
    "x='#'.join(mytuple)\n",
    "y=''.join(mytuple)# if we give space it will join with the space\n",
    "print(x)\n",
    "print(y)\n",
    "print('This works only when the # symbol is present before the . joint e.g., x=quote #quote .join(mytuple)')"
   ]
  },
  {
   "cell_type": "code",
   "execution_count": null,
   "id": "17e5adc5",
   "metadata": {},
   "outputs": [],
   "source": [
    "mydict={'name':'Rohan','Country':'India','planet':'Earth'}\n",
    "x='-myseprator-'.join(mydict)\n",
    "print(x)"
   ]
  },
  {
   "cell_type": "code",
   "execution_count": null,
   "id": "048ee991",
   "metadata": {},
   "outputs": [],
   "source": [
    "#ljust()=method will left align the string,using a specified character(space is defalut) as the fill character.\n",
    "txt='banana'\n",
    "x=txt.ljust(20,'0')\n",
    "print(x)\n",
    "x=txt.rjust(13,' ')\n",
    "print(x)\n",
    "x=txt.rjust(20,'0')\n",
    "print(x)"
   ]
  },
  {
   "cell_type": "code",
   "execution_count": null,
   "id": "530f24b9",
   "metadata": {},
   "outputs": [],
   "source": [
    "#lstrip()-method removes any leading character( space is a leading charater)\n",
    "txt=',,,, ,,,, ssaaww........banana ,'\n",
    "x=txt.lstrip(' ,.a ,sw ')\n",
    "print(x)\n",
    "text='Rohan this is my programming journey'\n",
    "y=text.lstrip('Rohan journey')\n",
    "print(y)"
   ]
  },
  {
   "cell_type": "code",
   "execution_count": null,
   "id": "ef63e901",
   "metadata": {},
   "outputs": [],
   "source": [
    "txt=\"Rohan and Jeander\"\n",
    "a=txt.maketrans('J','O')\n",
    "print(a)\n",
    "print(txt.translate(a))\n",
    "#The translation allows the variables to change according to the listed variable\n",
    "#Therefore there are first initializationa nf then there is translation "
   ]
  },
  {
   "cell_type": "code",
   "execution_count": null,
   "id": "64f6272c",
   "metadata": {},
   "outputs": [],
   "source": [
    "txt='Hi sam!'\n",
    "x=\"mas\"\n",
    "y=\"oej\"\n",
    "mytable=txt.maketrans(x,y)\n",
    "print(txt.translate(mytable))\n",
    "#after maketrans we use translate to change the values or convert into strings\n"
   ]
  },
  {
   "cell_type": "code",
   "execution_count": null,
   "id": "be0e09e0",
   "metadata": {},
   "outputs": [],
   "source": [
    "txt=\"Good night Rohan\"\n",
    "x=\"vinod\"\n",
    "y=\"Rohan\"\n",
    "b=txt.maketrans(x,y)\n",
    "print(txt.translate(b))"
   ]
  },
  {
   "cell_type": "code",
   "execution_count": null,
   "id": "46b72a9a",
   "metadata": {},
   "outputs": [],
   "source": [
    "txt='Good night sam'\n",
    "x='msa'\n",
    "y='ejo'\n",
    "z='odnight'\n",
    "mytable=txt.maketrans(x,y,z)\n",
    "print(txt.translate(mytable))"
   ]
  },
  {
   "cell_type": "code",
   "execution_count": null,
   "id": "855e7a3d",
   "metadata": {},
   "outputs": [],
   "source": [
    "txt = \"I could eat bananas all day\"\n",
    "x = txt.partition(\"bananas\")\n",
    "print(x)"
   ]
  },
  {
   "cell_type": "code",
   "execution_count": null,
   "id": "0662ef47",
   "metadata": {},
   "outputs": [],
   "source": [
    "#zfill()- it replaces the specific value(0) until the string returns to the specific position\n",
    "txt=\"50\"\n",
    "x=txt.zfill(10)\n",
    "print(x)\n",
    "print(txt.zfill(20))"
   ]
  },
  {
   "cell_type": "markdown",
   "id": "da757d78",
   "metadata": {},
   "source": [
    "# Python List/Array methods"
   ]
  },
  {
   "cell_type": "code",
   "execution_count": null,
   "id": "64c361b3",
   "metadata": {},
   "outputs": [],
   "source": [
    "#python boolean function either zero or one (True or False)\n",
    "print(10>9)\n",
    "print(5<10)\n",
    "print(10==10)\n",
    "print(5!=5)"
   ]
  },
  {
   "cell_type": "code",
   "execution_count": null,
   "id": "d3321630",
   "metadata": {},
   "outputs": [],
   "source": [
    "#when you run a Condition in an if statement, python returns True or False\n",
    "a=200\n",
    "b=33\n",
    "if b>a:\n",
    "    print('b')\n",
    "else:\n",
    "    print('a')"
   ]
  },
  {
   "cell_type": "code",
   "execution_count": null,
   "id": "d4576546",
   "metadata": {},
   "outputs": [],
   "source": [
    "#Almost any value is evaluated to ' True ' if it has some sort of content (any String,Number,list,tuple,set and Dictionary are True, except empty ones)\n",
    "print(bool(\"abc\"))\n",
    "print(bool(123))\n",
    "print(bool(['apple','Cherry','Banana']))\n"
   ]
  },
  {
   "cell_type": "code",
   "execution_count": null,
   "id": "483a8e3c",
   "metadata": {},
   "outputs": [],
   "source": [
    "#Function can return a boolean value\n",
    "def myFunction():\n",
    "    return True\n",
    "\n",
    "print(myFunction())\n",
    "#the true here is in the capital True , the T is upper case\n"
   ]
  },
  {
   "cell_type": "code",
   "execution_count": null,
   "id": "0d7e74ab",
   "metadata": {},
   "outputs": [],
   "source": [
    "#Is instant function helps to give the boolean value to the related guess or e.g., isinstance()\n",
    "x=200\n",
    "print(isinstance(x,int))\n",
    "print(isinstance(x,float))"
   ]
  },
  {
   "cell_type": "markdown",
   "id": "38b63a96",
   "metadata": {},
   "source": [
    "\n",
    "# Python Operators\n"
   ]
  },
  {
   "cell_type": "code",
   "execution_count": null,
   "id": "778fd27b",
   "metadata": {},
   "outputs": [],
   "source": [
    "#Operators are used to perform operations on variable and values.In the example below, we use the + operator to add together two values:\n",
    "'''\n",
    "Python arthematic operator: +,-,*,/,%,**,//\n",
    "python assignment operators: =, +=, -=, /=, %= // =, **=, &=,1=,^=,>>=,<<=,<=,>=\n",
    "python comparision operator: ==, !=, > , < , >=, <=\n",
    "Python logical operator: and, or, not\n",
    "Python identifier operator : is, is not\n",
    "Python Bitwise operator : & AND , ^ XOR , | OR  , ~ Not , << Zero fill left , >> Zero fill right\n",
    "'''"
   ]
  },
  {
   "cell_type": "markdown",
   "id": "7f609392",
   "metadata": {},
   "source": [
    "# Lists"
   ]
  },
  {
   "cell_type": "code",
   "execution_count": null,
   "id": "8adf1077",
   "metadata": {},
   "outputs": [],
   "source": [
    "\"\"\"\n",
    "Lists are used to store multiple items in a single variable, Lists are one of 4 built in data types in python used to sote and collect the data\n",
    "The other three mare the Tuple,Sets and Dictionary\n",
    "Lists are created using the Square brackets [ ] or the keyword list e.g., thelist=list((\"apple\",\"banana\",\"mango\"))- remember 2 brackets with list in front of them\n",
    "The list is changable\n",
    "Allows duplicates-Since there are index, lists can have items with the same value\n",
    "Lists can contain any data types\n",
    "\"\"\""
   ]
  },
  {
   "cell_type": "code",
   "execution_count": null,
   "id": "46a05957",
   "metadata": {},
   "outputs": [],
   "source": [
    "mylist=[\"apple\",\"banana\",\"cherry\",\"mango\"]\n",
    "print(mylist)"
   ]
  },
  {
   "cell_type": "code",
   "execution_count": null,
   "id": "2cd888c5",
   "metadata": {},
   "outputs": [],
   "source": [
    "thelist=list((\"apple\",\"banana\",\"cherry\",\"mango\"))\n",
    "print(thelist)\n"
   ]
  },
  {
   "cell_type": "code",
   "execution_count": null,
   "id": "dd203e3f",
   "metadata": {},
   "outputs": [],
   "source": [
    "#Accessing list items\n",
    "mylist=['Rohan',\"Rohan1\",'Rohan2','Rohan3','Rohan4']\n",
    "print(mylist)\n",
    "print(mylist[-1])\n",
    "print(mylist[1])\n",
    "print(mylist[0]);\n",
    "print(mylist[:4])\n",
    "print(mylist[3:])"
   ]
  },
  {
   "cell_type": "code",
   "execution_count": null,
   "id": "df3dc439",
   "metadata": {},
   "outputs": [],
   "source": [
    "#Range of index\n",
    "print(mylist[1:3])\n",
    "print(\"n-1 : to the same property of the list as index values\")"
   ]
  },
  {
   "cell_type": "code",
   "execution_count": null,
   "id": "65cfb53d",
   "metadata": {},
   "outputs": [],
   "source": [
    "print(mylist)\n",
    "#inserting values into the list \n",
    "mylist.insert(2,\"rohan!\")# For insert we have to use the index to specify the position \n",
    "print(mylist)\n",
    "mylist.append(\"Rohan!-append\")\n",
    "print(mylist)"
   ]
  },
  {
   "cell_type": "markdown",
   "id": "f492fe48",
   "metadata": {},
   "source": [
    "# Programs"
   ]
  },
  {
   "cell_type": "code",
   "execution_count": null,
   "id": "0364fa81",
   "metadata": {},
   "outputs": [],
   "source": [
    "print(\"hello world\")"
   ]
  },
  {
   "cell_type": "code",
   "execution_count": null,
   "id": "91a40ec1",
   "metadata": {},
   "outputs": [],
   "source": [
    "a=input(\"Enter the fist number: \")\n",
    "b=input(\"Enter the second number: \")\n",
    "add=float(a)+float(b)\n",
    "sub=float(b)-float(a)\n",
    "div=float(a)%float(b)\n",
    "mul=float(a)*float(b)\n",
    "print('The addition of number {0} and {1} is {2}'.format(a,b,add))\n",
    "print('The Subraction of number {0} and {1} is {2}'.format(a,b,sub))\n",
    "print('The division of number {0} and {1} is {2}'.format(a,b,div))\n",
    "print('The multiplication of number {0} and {1} is {2}'.format(a,b,mul))\n"
   ]
  },
  {
   "cell_type": "code",
   "execution_count": null,
   "id": "4bce2a5e",
   "metadata": {},
   "outputs": [],
   "source": [
    "#area of a triangle\n",
    "a=int(input(\"enter the side a: \"))\n",
    "b=int(input(\"enter the side b: \"))\n",
    "c=int(input(\"enter the side c: \"))\n",
    "s=(a+b+c)/2;\n",
    "area=(s*(s-a)*(s-b)*(s-c))**0.5\n",
    "print('Area of a triangle is {}'.format(area))\n",
    "print(\"Area of a triangle is %0.2f\"%area)"
   ]
  },
  {
   "cell_type": "code",
   "execution_count": null,
   "id": "8b13e6f8",
   "metadata": {},
   "outputs": [],
   "source": [
    "#Quadratic equation-  ax**2+bx+c=0\n",
    "import cmath\n",
    "a=float(input(\"Enter the value of a: \"))\n",
    "b=float(input(\"Enter the value of b: \"))\n",
    "c=float(input(\"Enter the value of c: \"))\n",
    "d=(b**2)-(4*a*c)\n",
    "sol1 = (-b-cmath.sqrt(d))/(2*a)  \n",
    "sol2 = (-b+cmath.sqrt(d))/(2*a)\n",
    "print('The solution are {0} and {1}'.format(sol1,sol2))"
   ]
  },
  {
   "cell_type": "code",
   "execution_count": null,
   "id": "d8e4ac28",
   "metadata": {},
   "outputs": [],
   "source": [
    "# Quadratic Equation other method\n",
    "import math\n",
    "\n",
    "def roots(a,b,c):\n",
    "    d=(b**2)-(4*a*c)\n",
    "    q=math.sqrt(abs(d))\n",
    "    \n",
    "    if d>0:\n",
    "        print((-b+q)/(2*a))\n",
    "        print((-b-q)/(2*a))\n",
    "    elif d==0:\n",
    "        print(\"real and same root\")\n",
    "        print(-b/(2*a))\n",
    "    else:\n",
    "        print(\"complex root\")\n",
    "        print(-b/(2*a),\"+i\",q)\n",
    "        print(-b/(2*a),\"-i\",q)\n",
    "a=int(input(\"Enter the a value: \"))\n",
    "b=int(input(\"Enter the b value: \"))\n",
    "c=int(input(\"Enter the c value: \"))\n",
    "\n",
    "if a<0:\n",
    "              print(\"Enter the valid equation\")\n",
    "else:\n",
    "    roots(a,b,c)"
   ]
  },
  {
   "cell_type": "code",
   "execution_count": null,
   "id": "93ad3ba4",
   "metadata": {},
   "outputs": [],
   "source": [
    "#Swaping two variables\n",
    "a=10\n",
    "b=20\n",
    "a,b=b,a\n",
    "print(a,b)"
   ]
  },
  {
   "cell_type": "code",
   "execution_count": null,
   "id": "3499575f",
   "metadata": {},
   "outputs": [],
   "source": [
    "#To generate Random numbers\n",
    "import random\n",
    "print(random.randrange(0,100))\n",
    "print(random.random())\n",
    "print(random.randint(0,100))"
   ]
  },
  {
   "cell_type": "code",
   "execution_count": null,
   "id": "fc38c1f8",
   "metadata": {},
   "outputs": [],
   "source": [
    "#To Generate Random list items\n",
    "import random\n",
    "rand_list=[]\n",
    "for i in range(0,10):\n",
    "    n=random.randint(0,100)\n",
    "    rand_list.append(n)\n",
    "print(rand_list)"
   ]
  },
  {
   "cell_type": "code",
   "execution_count": null,
   "id": "f4d2b4d0",
   "metadata": {},
   "outputs": [],
   "source": [
    "# To generate five and 6 random numbers using random\n",
    "import random\n",
    "m=random.sample(range(0,100),5)\n",
    "n=random.sample(range(0,100),6)\n",
    "print(m)\n",
    "print(n)"
   ]
  },
  {
   "cell_type": "code",
   "execution_count": null,
   "id": "e70a4756",
   "metadata": {},
   "outputs": [],
   "source": [
    "option=str(input(\"Enter the option \\n\\n1.kilometer to miles\\n2.miles to kilometer\\n\"))\n",
    "if option=='1':\n",
    "    kl=float(input(\"Enter the Kilometer to convert to Miles: \"))\n",
    "    ml=kl*0.62137\n",
    "    print(ml,\"miles\")\n",
    "elif option=='2':\n",
    "    ml=float(input(\"Enter the Miles to convert to Kilometer: \"))\n",
    "    kl=ml/0.62137\n",
    "    print(kl,\"kilometers\")\n",
    "else:print(\"Select the correct option\")"
   ]
  },
  {
   "cell_type": "code",
   "execution_count": null,
   "id": "4298826e",
   "metadata": {},
   "outputs": [],
   "source": [
    "#Converting Celcious to Fahrenheit\n",
    "while(True):\n",
    "    c=float(input(\"Enter the celcious to convert: \"))\n",
    "    f=c*(9/5)+32\n",
    "    print(\"%0.2f fahrenheit\"%f)\n"
   ]
  },
  {
   "cell_type": "code",
   "execution_count": null,
   "id": "a2c35522",
   "metadata": {},
   "outputs": [],
   "source": [
    "import calendar\n",
    "mm=int(input(\"Enter the month of the year in mm format\"))\n",
    "yy=int(input(\"Enter the year in the year in yyyy format\"))\n",
    "print(\"calendar\")\n",
    "print(calendar.month(yy,mm))"
   ]
  },
  {
   "cell_type": "code",
   "execution_count": null,
   "id": "292b4e89",
   "metadata": {},
   "outputs": [],
   "source": [
    "#negative or positive number\n",
    "while(True):\n",
    "    number=float(input(\"Enter the number to check\"))\n",
    "    if number<0:\n",
    "        print(\"negative number :\",number)\n",
    "    elif number>0:\n",
    "        print(\"Positive number :\",number)\n",
    "    else:print(\"The number is \\'0\\'\")"
   ]
  },
  {
   "cell_type": "code",
   "execution_count": null,
   "id": "9d342613",
   "metadata": {},
   "outputs": [],
   "source": [
    "def numchk(number): \n",
    "        if number<0:\n",
    "            print(\"negative number :\",number)\n",
    "        elif number>0:\n",
    "            print(\"Positive number :\",number)\n",
    "        else:print(\"The number is \\'0\\'\")\n",
    "number=float(input(\"Enter the number to check\"))\n",
    "numchk(number)"
   ]
  },
  {
   "cell_type": "code",
   "execution_count": null,
   "id": "8cc7ebf7",
   "metadata": {},
   "outputs": [],
   "source": [
    "#checking the leap year\n",
    "while(True):\n",
    "    num=int(input(\"Enter the year to check :\"))\n",
    "    if num%400==0 or num%100!=0 and num%4==0:\n",
    " \n",
    "        print(\"It is a leap Year\")\n",
    "    else:print(\"It is not a leap year\")"
   ]
  },
  {
   "cell_type": "code",
   "execution_count": null,
   "id": "e822e0c3",
   "metadata": {},
   "outputs": [],
   "source": [
    "#Leap year using functions\n",
    "def leap_year(year):\n",
    "    if ((year%400==0) or (year%100!=0) and (year%4==0)):\n",
    "        print(\"it is a leap year\")\n",
    "    else:print(\"not a leap year\")\n",
    "year=int(input(\"Enter the Year: \"))\n",
    "leap_year(year)"
   ]
  },
  {
   "cell_type": "code",
   "execution_count": null,
   "id": "aac38266",
   "metadata": {},
   "outputs": [],
   "source": [
    "#Prime number or not\n",
    "def primenum(num):\n",
    "    if num>0:\n",
    "        for i in range(2,int(num/2) + 1):\n",
    "            if num%i==0:\n",
    "                print(num,\"not a prime number \")\n",
    "                break\n",
    "        else:print(num,\"is a Prime number\")\n",
    "num=int(input(\"Enter the number to Check: \"))\n",
    "\n",
    "primenum(num)"
   ]
  },
  {
   "cell_type": "code",
   "execution_count": null,
   "id": "d44956d1",
   "metadata": {},
   "outputs": [],
   "source": [
    "# prime number in an interval\n",
    "startnum=int(input(\"Enter the start number : \"))\n",
    "endnum=int(input(\"Enter the end number : \"))\n",
    "for num in range(startnum,endnum+1):\n",
    "    if num>1:\n",
    "        for i in range(2,num):\n",
    "            if num%i==0:\n",
    "                break\n",
    "        else:print(num)\n",
    "\n",
    "        "
   ]
  },
  {
   "cell_type": "code",
   "execution_count": null,
   "id": "4da7571f",
   "metadata": {},
   "outputs": [],
   "source": [
    "#Factorial of a number\n",
    "num=int(input(\"Enter the numbr : \"))\n",
    "factorial=1\n",
    "if num>0:\n",
    "    for i in range(1,num+1):\n",
    "        factorial=factorial*i\n",
    "print(factorial)\n",
    "    "
   ]
  },
  {
   "cell_type": "code",
   "execution_count": null,
   "id": "9a96f180",
   "metadata": {},
   "outputs": [],
   "source": [
    "import math  \n",
    "def fact(n):  \n",
    "    return(math.factorial(n))  \n",
    "  \n",
    "num = int(input(\"Enter the number:\"))  \n",
    "f = fact(num)  \n",
    "print(\"Factorial of\", num, \"is\", f)  "
   ]
  },
  {
   "cell_type": "code",
   "execution_count": null,
   "id": "6cc07be0",
   "metadata": {},
   "outputs": [],
   "source": [
    "#Multiplication table\n",
    "for i in range(0,11):\n",
    "    a=1*i\n",
    "   #b=2*i\n",
    "    print(\"1 *\",i,'=',a)\n",
    "   #print(\"2 *\",i,\"=\",b)"
   ]
  },
  {
   "cell_type": "code",
   "execution_count": null,
   "id": "c7cea661",
   "metadata": {},
   "outputs": [],
   "source": [
    "#Multiplication table using while loop\n",
    "num=int(input(\"Enter the numbre you want to get the tables : \"))\n",
    "count=1\n",
    "while count<=10:\n",
    "    print(count,\"X\",num,'=',num*count)\n",
    "    count+=1"
   ]
  },
  {
   "cell_type": "code",
   "execution_count": null,
   "id": "b58a58bb",
   "metadata": {},
   "outputs": [],
   "source": [
    "end=int(input(\"Enter the end count number : \"))\n",
    "n1=0\n",
    "n2=1\n",
    "count=1\n",
    "if end<=0:\n",
    "    print(\"Enter the number greater than 0 and 1\")\n",
    "elif end==1:\n",
    "    print(\"Enter the proper number above 1\")\n",
    "else:\n",
    "    while count<=end:\n",
    "        print(n1)\n",
    "        num=n1+n2\n",
    "        n1=n2\n",
    "        n2=num\n",
    "        count+=1\n",
    "print('etc..')\n"
   ]
  },
  {
   "cell_type": "code",
   "execution_count": null,
   "id": "10624543",
   "metadata": {},
   "outputs": [],
   "source": [
    "#Armstring number\n",
    "num=int(input(\"Enter the number: \"))\n",
    "temp=num\n",
    "sum=0\n",
    "while temp>0:\n",
    "    digit=temp%10\n",
    "    sum+=digit**3\n",
    "    temp//=10\n",
    "if sum==num:print(\"Armstring no\")\n",
    "else:print(\"not a Armstring no\")"
   ]
  },
  {
   "cell_type": "code",
   "execution_count": null,
   "id": "a410f700",
   "metadata": {},
   "outputs": [],
   "source": [
    "#Aremstrong number between an interval\n",
    "interval=int(input(\"Enter the range of interval: \"))\n",
    "for i in range(1,interval):\n",
    "    sum=0  \n",
    "    temp=i\n",
    "    while temp>0:\n",
    "        digit=temp%10\n",
    "        sum+=digit**3\n",
    "        temp//=10\n",
    "        if sum==i:\n",
    "            print(i)\n",
    "print(\"The end \")"
   ]
  },
  {
   "cell_type": "code",
   "execution_count": null,
   "id": "8970caa1",
   "metadata": {},
   "outputs": [],
   "source": [
    "#Sum of natural numbers - for loop\n",
    "num=int(input(\"Enter the number to get the sum of natural numbers :\"))\n",
    "sum=0\n",
    "for i in range(0,num+1):\n",
    "        sum+=i\n",
    "print(sum)\n",
    "   \n"
   ]
  },
  {
   "cell_type": "code",
   "execution_count": null,
   "id": "c5129ad2",
   "metadata": {},
   "outputs": [],
   "source": [
    "num=int(input(\"Enter the number to get the sum of natural numbers :\"))\n",
    "sum=1\n",
    "count=1\n",
    "while count<=num:\n",
    "        sum+=count\n",
    "        count+=1\n",
    "print(sum-1)\n",
    "   "
   ]
  },
  {
   "cell_type": "markdown",
   "id": "4b0a576d",
   "metadata": {},
   "source": [
    "# Learning NumPy"
   ]
  },
  {
   "cell_type": "code",
   "execution_count": null,
   "id": "70423c40",
   "metadata": {},
   "outputs": [],
   "source": [
    "import numpy\n",
    "arr=numpy.array([1,2,4,5,7,8,9,6,3])\n",
    "mylist=[1,2,4,5,7,8,9,6,3]\n",
    "print(arr)\n",
    "print(mylist)\n",
    "#in lists there is ',' where as in numpy array there is no commas for numbers , if you observe and its near to each other , space is less"
   ]
  },
  {
   "cell_type": "code",
   "execution_count": null,
   "id": "ba55be3a",
   "metadata": {},
   "outputs": [],
   "source": [
    "import numpy as np\n",
    "arr=np.array([1,3,4,5,7,8,9])\n",
    "print(arr)\n",
    "print(np.__version__)\n"
   ]
  },
  {
   "cell_type": "code",
   "execution_count": null,
   "id": "f0b8aa19",
   "metadata": {},
   "outputs": [],
   "source": [
    "#Creating arrays\n",
    "import numpy as np\n",
    "arr=np.array([1,2,3,4,5,6])\n",
    "print(arr)\n",
    "print(np.__version__)\n",
    "print(type(arr))"
   ]
  },
  {
   "cell_type": "code",
   "execution_count": null,
   "id": "eb8f4abf",
   "metadata": {},
   "outputs": [],
   "source": [
    "# 0D -array\n",
    "import numpy as np\n",
    "arr=np.array(50)\n",
    "print(arr)\n",
    "print(arr.ndim)"
   ]
  },
  {
   "cell_type": "code",
   "execution_count": null,
   "id": "7da7043c",
   "metadata": {},
   "outputs": [],
   "source": [
    "import numpy as np\n",
    "arr=np.array([1,2,3,4,5])\n",
    "print(arr)\n",
    "print(arr.ndim)"
   ]
  },
  {
   "cell_type": "code",
   "execution_count": null,
   "id": "9189ce20",
   "metadata": {},
   "outputs": [],
   "source": [
    "import numpy as np\n",
    "arr=np.array([[1,2,3,4,5],[2,3,4,5,6]])\n",
    "print(arr)\n",
    "print(arr.ndim)"
   ]
  },
  {
   "cell_type": "code",
   "execution_count": null,
   "id": "edd1614b",
   "metadata": {},
   "outputs": [],
   "source": [
    "import numpy as np\n",
    "\n",
    "arr = np.array([[[1, 2, 3], [4, 5, 6],[2,3,4,],[6,7,8]]])\n",
    "\n",
    "print(arr)\n",
    "                \n",
    "print(arr.ndim)"
   ]
  },
  {
   "cell_type": "code",
   "execution_count": null,
   "id": "113400c2",
   "metadata": {},
   "outputs": [],
   "source": [
    "import numpy as np\n",
    "a = np.array(42)\n",
    "b = np.array([1, 2, 3, 4, 5])\n",
    "c = np.array([[1, 2, 3], [4, 5, 6]])\n",
    "d = np.array([[[1, 2, 3], [4, 5, 6]], [[1, 2, 3], [4, 5, 6]]])\n",
    "print(a.ndim)\n",
    "print(b.ndim)\n",
    "print(c.ndim)\n",
    "print(d.ndim)"
   ]
  },
  {
   "cell_type": "code",
   "execution_count": null,
   "id": "d45158a1",
   "metadata": {},
   "outputs": [],
   "source": [
    "import numpy as np\n",
    "\n",
    "a = np.array(42)\n",
    "b = np.array([1, 2, 3, 4, 5])\n",
    "c = np.array([[1, 2, 3], [4, 5, 6]])\n",
    "d = np.array([[[1, 2, 3], [4, 5, 6]], [[1, 2, 3], [4, 5, 6]]])\n",
    "e=np.array([[[[[1,2,3]]]]])\n",
    "f=np.array([1,2,3,4,5,6],ndmin=6)\n",
    "print(a.ndim)\n",
    "print(b.ndim)\n",
    "print(c.ndim)\n",
    "print(d.ndim)\n",
    "print(e.ndim)\n",
    "print(f.ndim)"
   ]
  },
  {
   "cell_type": "code",
   "execution_count": null,
   "id": "f4ad47a0",
   "metadata": {},
   "outputs": [],
   "source": [
    "#To print the number vertically and without space in between them \n",
    "if __name__ == '__main__':\n",
    "    n = int(input())\n",
    "    for i in range(1,n+1):\n",
    "        print(i,end=\"\")"
   ]
  },
  {
   "cell_type": "code",
   "execution_count": null,
   "id": "e6f74633",
   "metadata": {},
   "outputs": [],
   "source": [
    "import re\n",
    "for _ in range(int(input())):\n",
    "    ans = True\n",
    "    try:\n",
    "        reg = re.compile(input())\n",
    "    except re.error:\n",
    "        ans = False\n",
    "    print(ans)"
   ]
  },
  {
   "cell_type": "code",
   "execution_count": null,
   "id": "40a1dbb2",
   "metadata": {},
   "outputs": [],
   "source": [
    "#Regular Expression in Python\n",
    "import re\n",
    "MyPara=\"\"\"Rohan is 22 and Vinoad is 24 and Leander is 22 and you know Jack is 100 and finally this is  and  Jill is 99 \"\"\"\n",
    "age=re.findall(r'\\d{1,3}',MyPara)\n",
    "name=re.findall(r'[A-Z][a-z]*',MyPara)\n",
    "Dict={}\n",
    "ag=0\n",
    "for eachname in name:\n",
    "    Dict[eachname]=age[ag]\n",
    "    ag+=1\n",
    "print(Dict)"
   ]
  },
  {
   "cell_type": "code",
   "execution_count": null,
   "id": "3ea76737",
   "metadata": {},
   "outputs": [],
   "source": [
    "import re\n",
    "MyPara=\"\"\"Rohan is a goog person of age 22 and he has friends Vinoad of age 24 and Leander of age 22 and all are good\"\"\"\n",
    "age=re.findall(r'\\d{1,3}',MyPara)\n",
    "name=re.findall(r'[A-Z][a-z]*',MyPara)\n",
    "Dict={}\n",
    "ag=0\n",
    "for eachname in name:\n",
    "     Dict[eachname]=age[ag]\n",
    "     ag+=1\n",
    "print(Dict)\n"
   ]
  },
  {
   "cell_type": "code",
   "execution_count": null,
   "id": "c73de9c5",
   "metadata": {},
   "outputs": [],
   "source": [
    "#NumPy Array Indexing\n",
    "import numpy as np\n",
    "arr=np.array([1,2,3,4,5])\n",
    "print(arr[0])"
   ]
  },
  {
   "cell_type": "code",
   "execution_count": null,
   "id": "d8e29b1a",
   "metadata": {},
   "outputs": [],
   "source": [
    "import numpy as np\n",
    "arr=np.array([1,2,3,4,5,6,7,8])\n",
    "print(arr[2]+arr[3])"
   ]
  },
  {
   "cell_type": "code",
   "execution_count": null,
   "id": "6f8ba0e3",
   "metadata": {},
   "outputs": [],
   "source": [
    "import numpy as np\n",
    "arr=np.array([[1,2,3,4,5,], [6,7,8,9,10]])\n",
    "print(arr)\n",
    "print(\"accessing array element 2D :\",arr[1,4])"
   ]
  },
  {
   "cell_type": "code",
   "execution_count": null,
   "id": "af28100e",
   "metadata": {},
   "outputs": [],
   "source": [
    "import numpy as np\n",
    "arr=np.array([[[1,2,3],[4,5,6]],[[7,8,9],[10,11,12]]])\n",
    "print(arr)\n",
    "print(arr[0,1,1])\n",
    "print(arr[1,-1])\n",
    "print(arr[0,-2])"
   ]
  },
  {
   "cell_type": "code",
   "execution_count": null,
   "id": "39065a5e",
   "metadata": {},
   "outputs": [],
   "source": [
    "#numpy array string slicing\n",
    "import numpy as np\n",
    "arr=np.array([1,2,3,4,5,6,7,8,9,10])\n",
    "print(arr[1:5])\n",
    "print(arr[:4])\n",
    "print(arr[4:])\n",
    "print(arr[-3:-1])"
   ]
  },
  {
   "cell_type": "code",
   "execution_count": null,
   "id": "e6fcd0d7",
   "metadata": {},
   "outputs": [],
   "source": [
    "import numpy as np\n",
    "arr=np.array([1,2,3,4,5,6,7,8,9,10])\n",
    "print(arr[::2])\n",
    "print(arr[2::])\n",
    "print(arr[4::])"
   ]
  },
  {
   "cell_type": "code",
   "execution_count": null,
   "id": "5d7ae3d7",
   "metadata": {},
   "outputs": [],
   "source": [
    "import numpy as np\n",
    "arr=np.array([1,2,3,4,5,6,7,8,9,10])\n",
    "print(arr.dtype)"
   ]
  },
  {
   "cell_type": "markdown",
   "id": "20bd0d63",
   "metadata": {},
   "source": [
    "# Revision \n",
    "    "
   ]
  },
  {
   "cell_type": "code",
   "execution_count": 1,
   "id": "a5fecc8c",
   "metadata": {},
   "outputs": [
    {
     "name": "stdout",
     "output_type": "stream",
     "text": [
      "Hello, world!\n"
     ]
    }
   ],
   "source": [
    "\n",
    "print(\"Hello, world!\")"
   ]
  },
  {
   "cell_type": "code",
   "execution_count": 8,
   "id": "751619b9",
   "metadata": {},
   "outputs": [
    {
     "name": "stdout",
     "output_type": "stream",
     "text": [
      "True\n",
      "False\n"
     ]
    }
   ],
   "source": [
    "\n",
    "    print(5>2)\n",
    "    print(5<3)"
   ]
  },
  {
   "cell_type": "code",
   "execution_count": 9,
   "id": "e64d400c",
   "metadata": {},
   "outputs": [
    {
     "data": {
      "text/plain": [
       "' multi\\n    line comment\\n    for many lines '"
      ]
     },
     "execution_count": 9,
     "metadata": {},
     "output_type": "execute_result"
    }
   ],
   "source": [
    "# single line comment  \n",
    "\"\"\" multi\n",
    "    line comment\n",
    "    for many lines \"\"\""
   ]
  },
  {
   "cell_type": "code",
   "execution_count": 10,
   "id": "0dd591f7",
   "metadata": {},
   "outputs": [
    {
     "name": "stdout",
     "output_type": "stream",
     "text": [
      "5 10\n"
     ]
    }
   ],
   "source": [
    "x=5\n",
    "y=10\n",
    "print(x,y)"
   ]
  },
  {
   "cell_type": "code",
   "execution_count": null,
   "id": "b9adda4b",
   "metadata": {},
   "outputs": [],
   "source": []
  },
  {
   "cell_type": "code",
   "execution_count": null,
   "id": "bd1f90c7",
   "metadata": {},
   "outputs": [],
   "source": []
  },
  {
   "cell_type": "code",
   "execution_count": null,
   "id": "2ccdae21",
   "metadata": {},
   "outputs": [],
   "source": []
  },
  {
   "cell_type": "code",
   "execution_count": null,
   "id": "19fbe975",
   "metadata": {},
   "outputs": [],
   "source": []
  },
  {
   "cell_type": "code",
   "execution_count": null,
   "id": "a7a49ee3",
   "metadata": {},
   "outputs": [],
   "source": []
  },
  {
   "cell_type": "code",
   "execution_count": null,
   "id": "b3529126",
   "metadata": {},
   "outputs": [],
   "source": []
  },
  {
   "cell_type": "code",
   "execution_count": null,
   "id": "88fc3b69",
   "metadata": {},
   "outputs": [],
   "source": []
  },
  {
   "cell_type": "code",
   "execution_count": null,
   "id": "4b6b3165",
   "metadata": {},
   "outputs": [],
   "source": []
  },
  {
   "cell_type": "code",
   "execution_count": null,
   "id": "1ab9a600",
   "metadata": {},
   "outputs": [],
   "source": []
  },
  {
   "cell_type": "code",
   "execution_count": null,
   "id": "4739993e",
   "metadata": {},
   "outputs": [],
   "source": []
  },
  {
   "cell_type": "code",
   "execution_count": null,
   "id": "03a0a11d",
   "metadata": {},
   "outputs": [],
   "source": []
  },
  {
   "cell_type": "code",
   "execution_count": null,
   "id": "381ce32d",
   "metadata": {},
   "outputs": [],
   "source": []
  },
  {
   "cell_type": "code",
   "execution_count": null,
   "id": "c1508837",
   "metadata": {},
   "outputs": [],
   "source": []
  }
 ],
 "metadata": {
  "kernelspec": {
   "display_name": "Python 3",
   "language": "python",
   "name": "python3"
  },
  "language_info": {
   "codemirror_mode": {
    "name": "ipython",
    "version": 3
   },
   "file_extension": ".py",
   "mimetype": "text/x-python",
   "name": "python",
   "nbconvert_exporter": "python",
   "pygments_lexer": "ipython3",
   "version": "3.8.8"
  }
 },
 "nbformat": 4,
 "nbformat_minor": 5
}
